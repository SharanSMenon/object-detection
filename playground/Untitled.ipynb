{
 "cells": [
  {
   "cell_type": "code",
   "execution_count": 11,
   "metadata": {},
   "outputs": [],
   "source": [
    "from fastai2.vision import *\n",
    "from fastai2.data import *"
   ]
  },
  {
   "cell_type": "code",
   "execution_count": 17,
   "metadata": {},
   "outputs": [
    {
     "name": "stdout",
     "output_type": "stream",
     "text": [
      "█\r"
     ]
    }
   ],
   "source": [
    "path = external.untar_data(external.URLs.PASCAL_2007)"
   ]
  },
  {
   "cell_type": "code",
   "execution_count": 18,
   "metadata": {},
   "outputs": [],
   "source": [
    "import json\n",
    "annots = json.load(open(path/'train.json'))"
   ]
  },
  {
   "cell_type": "code",
   "execution_count": 19,
   "metadata": {},
   "outputs": [
    {
     "data": {
      "text/plain": [
       "Path('/Users/sharan/.fastai/data/pascal_2007')"
      ]
     },
     "execution_count": 19,
     "metadata": {},
     "output_type": "execute_result"
    }
   ],
   "source": [
    "path"
   ]
  },
  {
   "cell_type": "code",
   "execution_count": 20,
   "metadata": {},
   "outputs": [
    {
     "data": {
      "text/plain": [
       "[{'supercategory': 'none', 'id': 1, 'name': 'aeroplane'},\n",
       " {'supercategory': 'none', 'id': 2, 'name': 'bicycle'},\n",
       " {'supercategory': 'none', 'id': 3, 'name': 'bird'},\n",
       " {'supercategory': 'none', 'id': 4, 'name': 'boat'},\n",
       " {'supercategory': 'none', 'id': 5, 'name': 'bottle'},\n",
       " {'supercategory': 'none', 'id': 6, 'name': 'bus'},\n",
       " {'supercategory': 'none', 'id': 7, 'name': 'car'},\n",
       " {'supercategory': 'none', 'id': 8, 'name': 'cat'},\n",
       " {'supercategory': 'none', 'id': 9, 'name': 'chair'},\n",
       " {'supercategory': 'none', 'id': 10, 'name': 'cow'},\n",
       " {'supercategory': 'none', 'id': 11, 'name': 'diningtable'},\n",
       " {'supercategory': 'none', 'id': 12, 'name': 'dog'},\n",
       " {'supercategory': 'none', 'id': 13, 'name': 'horse'},\n",
       " {'supercategory': 'none', 'id': 14, 'name': 'motorbike'},\n",
       " {'supercategory': 'none', 'id': 15, 'name': 'person'},\n",
       " {'supercategory': 'none', 'id': 16, 'name': 'pottedplant'},\n",
       " {'supercategory': 'none', 'id': 17, 'name': 'sheep'},\n",
       " {'supercategory': 'none', 'id': 18, 'name': 'sofa'},\n",
       " {'supercategory': 'none', 'id': 19, 'name': 'train'},\n",
       " {'supercategory': 'none', 'id': 20, 'name': 'tvmonitor'}]"
      ]
     },
     "execution_count": 20,
     "metadata": {},
     "output_type": "execute_result"
    }
   ],
   "source": [
    "annots['categories']"
   ]
  },
  {
   "cell_type": "code",
   "execution_count": 23,
   "metadata": {},
   "outputs": [],
   "source": [
    "train_images, train_lbl_bbox = fastai.vision.data.get_annotations(path/'train.json')\n",
    "val_images, val_lbl_bbox = fastai.vision.data.get_annotations(path/'valid.json')"
   ]
  },
  {
   "cell_type": "code",
   "execution_count": 24,
   "metadata": {},
   "outputs": [
    {
     "data": {
      "text/plain": [
       "('000012.jpg', ([[155, 96, 351, 270]], ['car']))"
      ]
     },
     "execution_count": 24,
     "metadata": {},
     "output_type": "execute_result"
    }
   ],
   "source": [
    "train_images[0], train_lbl_bbox[0]"
   ]
  },
  {
   "cell_type": "code",
   "execution_count": 26,
   "metadata": {},
   "outputs": [],
   "source": [
    "images, lbl_bbox = train_images+val_images,train_lbl_bbox+val_lbl_bbox\n",
    "img2bbox = dict(zip(images, lbl_bbox))\n",
    "get_y_func = lambda o:img2bbox[o.name]"
   ]
  },
  {
   "cell_type": "code",
   "execution_count": null,
   "metadata": {},
   "outputs": [],
   "source": [
    "def get_data(bs, size):\n",
    "    src = ObjectItemList.from_folder(path/'train')\n",
    "    src = src.split_by_files(val_images)\n",
    "    src = src.label_from_func(get_y_func)\n",
    "    src = src.transform(get_transforms(), size=size, tfm_y=True)\n",
    "    return src.databunch(path=path, bs=bs, collate_fn=bb_pad_collate)"
   ]
  }
 ],
 "metadata": {
  "kernelspec": {
   "display_name": "Python 3",
   "language": "python",
   "name": "python3"
  },
  "language_info": {
   "codemirror_mode": {
    "name": "ipython",
    "version": 3
   },
   "file_extension": ".py",
   "mimetype": "text/x-python",
   "name": "python",
   "nbconvert_exporter": "python",
   "pygments_lexer": "ipython3",
   "version": "3.7.6"
  }
 },
 "nbformat": 4,
 "nbformat_minor": 4
}
