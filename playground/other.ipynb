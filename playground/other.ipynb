{
 "cells": [
  {
   "cell_type": "code",
   "execution_count": 1,
   "metadata": {},
   "outputs": [],
   "source": [
    "import random\n",
    "import numpy as np\n",
    "import matplotlib.pyplot as plt\n",
    "\n",
    "import torch\n",
    "import torch.nn as nn\n",
    "import torch.nn.functional as F\n",
    "from torch.utils.data import Dataset, DataLoader\n",
    "import torch.optim as optim\n",
    "from torchvision import models"
   ]
  },
  {
   "cell_type": "markdown",
   "metadata": {},
   "source": [
    "## Utility functions"
   ]
  },
  {
   "cell_type": "code",
   "execution_count": 2,
   "metadata": {},
   "outputs": [],
   "source": [
    "class RandomHorizontalFlip:\n",
    "    def __init__(self, p=0.5):\n",
    "        self.p = p\n",
    "\n",
    "    def __call__(self, img, bboxes):\n",
    "        if random.random() < self.p:\n",
    "            img_center = img.shape[0] / 2\n",
    "            img =  img[:,::-1,:]\n",
    "            img = np.ascontiguousarray(img)\n",
    "\n",
    "            bboxes[:, 0] += 2*(img_center - bboxes[:,0])\n",
    "        return img, bboxes"
   ]
  },
  {
   "cell_type": "code",
   "execution_count": 3,
   "metadata": {},
   "outputs": [],
   "source": [
    "class RandomContrast:\n",
    "    def __init__(self, lower=0.5, upper=1.5, p=0.5):\n",
    "        self.lower = lower\n",
    "        self.upper = upper\n",
    "        self.p = p\n",
    "\n",
    "    def __call__(self, img):\n",
    "        if random.random() < self.p:\n",
    "            alpha = random.uniform(self.lower, self.upper)\n",
    "            img *= alpha\n",
    "        return img"
   ]
  },
  {
   "cell_type": "code",
   "execution_count": 5,
   "metadata": {},
   "outputs": [],
   "source": [
    "from collections import namedtuple"
   ]
  },
  {
   "cell_type": "code",
   "execution_count": 6,
   "metadata": {},
   "outputs": [],
   "source": [
    "ImageEntry = namedtuple(\"ImageEntry\", [\"filename\", \"width\", \"height\",\n",
    "                                       \"classnames\", \"class_id\",\n",
    "                                       \"bounding_boxes\"\n",
    "                                       ])\n"
   ]
  },
  {
   "cell_type": "code",
   "execution_count": null,
   "metadata": {},
   "outputs": [],
   "source": [
    "def load_pascal(json_path):\n",
    "    json_data = json.load(open(json_path))\n",
    "\n",
    "    images_df = pd.DataFrame(json_data[\"images\"])\n",
    "    anno_df = pd.DataFrame(json_data[\"annotations\"])\n",
    "\n",
    "    anno_df = anno_df[[\"image_id\", \"bbox\", \"category_id\"]]\n",
    "    anno_df = anno_df.rename(columns={\"image_id\": \"id\"})\n",
    "\n",
    "    id_classname = {}\n",
    "    for row in json_data[\"categories\"]:\n",
    "        id_classname[row[\"id\"]] = row[\"name\"]\n",
    "\n",
    "    anno_df[\"classname\"] = anno_df.apply(lambda x: id_classname[x[\"category_id\"]], axis=1)\n",
    "    df = anno_df.merge(images_df, on=\"id\")\n",
    "\n",
    "    grouped_data = []\n",
    "    grouped = df.groupby(\"file_name\")\n",
    "    for name, group in grouped:\n",
    "        val = ImageEntry(filename=name, width=group[\"width\"].values[0], height=group[\"height\"].values[0],\n",
    "                         classnames=list(group[\"classname\"].values), class_id=list(group[\"category_id\"].values - 1),\n",
    "                         bounding_boxes=list(group[\"bbox\"].values))\n",
    "        grouped_data.append(val)\n",
    "    return id_classname, grouped_data"
   ]
  }
 ],
 "metadata": {
  "kernelspec": {
   "display_name": "Python 3",
   "language": "python",
   "name": "python3"
  },
  "language_info": {
   "codemirror_mode": {
    "name": "ipython",
    "version": 3
   },
   "file_extension": ".py",
   "mimetype": "text/x-python",
   "name": "python",
   "nbconvert_exporter": "python",
   "pygments_lexer": "ipython3",
   "version": "3.7.6"
  }
 },
 "nbformat": 4,
 "nbformat_minor": 4
}
